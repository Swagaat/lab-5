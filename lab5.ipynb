{
  "nbformat": 4,
  "nbformat_minor": 0,
  "metadata": {
    "colab": {
      "provenance": [],
      "authorship_tag": "ABX9TyNvwqKPv68cufsvfLgimLwK",
      "include_colab_link": true
    },
    "kernelspec": {
      "name": "python3",
      "display_name": "Python 3"
    },
    "language_info": {
      "name": "python"
    }
  },
  "cells": [
    {
      "cell_type": "markdown",
      "metadata": {
        "id": "view-in-github",
        "colab_type": "text"
      },
      "source": [
        "<a href=\"https://colab.research.google.com/github/Swagaat/lab-5/blob/main/lab5.ipynb\" target=\"_parent\"><img src=\"https://colab.research.google.com/assets/colab-badge.svg\" alt=\"Open In Colab\"/></a>"
      ]
    },
    {
      "cell_type": "code",
      "source": [
        "def is_prime(n):\n",
        "    if n < 2:\n",
        "        return False\n",
        "    for i in range(2, int(n ** 0.5) + 1):\n",
        "        if n % i == 0:\n",
        "            return False\n",
        "    return True\n",
        "\n",
        "def print_primes(n):\n",
        "    for i in range(2, n+1):\n",
        "        if is_prime(i):\n",
        "            print(i)\n",
        "\n",
        "# Testing the print_primes function\n",
        "print_primes(11)"
      ],
      "metadata": {
        "id": "_whxoUyPGshL"
      },
      "execution_count": null,
      "outputs": []
    },
    {
      "cell_type": "code",
      "source": [
        "def funy():\n",
        " sentence = input('Enter a sentence: ')\n",
        "\n",
        "# Splitting the sentence into words\n",
        " words = sentence.split()\n",
        "\n",
        "# Printing the number of words\n",
        " print(f'Number of words: {len(words)}')\n",
        "funy()"
      ],
      "metadata": {
        "colab": {
          "base_uri": "https://localhost:8080/"
        },
        "id": "ofz8L49HHgv6",
        "outputId": "74cac642-aaff-4e8f-ce62-6a4e6e5e7fc3"
      },
      "execution_count": null,
      "outputs": [
        {
          "output_type": "stream",
          "name": "stdout",
          "text": [
            "Enter a sentence: I love my Country.\n",
            "Number of words: 4\n"
          ]
        }
      ]
    },
    {
      "cell_type": "code",
      "source": [
        "def average():\n",
        " sentence = input('Enter a sentence: ')\n",
        "# Split the sentence into words\n",
        " words = sentence.split()\n",
        "# Calculating the total length of the words\n",
        " total_length = 0\n",
        " for word in words:\n",
        "    total_length += len(word)\n",
        "# Calculating the average word length\n",
        " average_length = total_length / len(words)\n",
        " \n",
        " print(f'Average word length: {average_length:.2f}')\n",
        "average()"
      ],
      "metadata": {
        "colab": {
          "base_uri": "https://localhost:8080/"
        },
        "id": "5DJ2Nf2uIMWh",
        "outputId": "1c3be4ff-e753-42dc-8678-a74446b914e3"
      },
      "execution_count": null,
      "outputs": [
        {
          "output_type": "stream",
          "name": "stdout",
          "text": [
            "Enter a sentence: I love my country Nepal.\n",
            "Average word length: 4.00\n"
          ]
        }
      ]
    },
    {
      "cell_type": "code",
      "source": [
        "def choose(n, k):\n",
        "    # Checking if k is greater than n\n",
        "    if k > n:\n",
        "        return 0\n",
        "\n",
        "    # Calculating the numerator\n",
        "    numerator = 1\n",
        "    for i in range(n, n-k, -1):\n",
        "        numerator *= i\n",
        "\n",
        "    # Calculating the denominator\n",
        "    denominator = 1\n",
        "    for i in range(k, 1, -1):\n",
        "        denominator *= i\n",
        "\n",
        "    # Return the result\n",
        "    return numerator // denominator\n",
        "print(choose(5, 2)) \n",
        "print(choose(20, 6))"
      ],
      "metadata": {
        "colab": {
          "base_uri": "https://localhost:8080/"
        },
        "id": "kerNKMCkEgn1",
        "outputId": "2355a79c-46e4-4ae3-aa0b-87f30f43f92b"
      },
      "execution_count": null,
      "outputs": [
        {
          "output_type": "stream",
          "name": "stdout",
          "text": [
            "10\n",
            "38760\n"
          ]
        }
      ]
    },
    {
      "cell_type": "code",
      "source": [
        "import math\n",
        "\n",
        "def multiple(a, b):\n",
        "    gcd = math.gcd(a, b)\n",
        "    return a * b // gcd\n",
        "\n",
        "print(multiple(3, 4))  \n",
        "print(multiple(14, 21))  "
      ],
      "metadata": {
        "colab": {
          "base_uri": "https://localhost:8080/"
        },
        "id": "_CwAGzAhFLYi",
        "outputId": "89f03c33-0e62-455e-c8f7-b8b47070734f"
      },
      "execution_count": null,
      "outputs": [
        {
          "output_type": "stream",
          "name": "stdout",
          "text": [
            "12\n",
            "42\n"
          ]
        }
      ]
    }
  ]
}